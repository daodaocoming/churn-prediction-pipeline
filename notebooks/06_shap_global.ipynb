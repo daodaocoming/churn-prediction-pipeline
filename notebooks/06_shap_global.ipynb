{
 "cells": [
  {
   "cell_type": "code",
   "execution_count": 6,
   "id": "0bae7564-8f1f-4f06-a66b-49ce8bd841b2",
   "metadata": {},
   "outputs": [
    {
     "name": "stdout",
     "output_type": "stream",
     "text": [
      "(7043, 38)\n"
     ]
    }
   ],
   "source": [
    "# 06 · Global SHAP Analysis\n",
    "## 1. Load Data & Model\n",
    "## 2. Calculate SHAP Values\n",
    "## 3. Summary Plot\n",
    "## 4. Top-20 Feature Bar\n",
    "\n",
    "from pathlib import Path\n",
    "import joblib, shap, numpy as np, pandas as pd, matplotlib.pyplot as plt\n",
    "\n",
    "ROOT = Path.cwd().parent\n",
    "X = joblib.load(ROOT/\"data/processed/X_train.pkl\")\n",
    "model = joblib.load(Root/\"models/final/model.pkl\")\n",
    "print(X.shape)"
   ]
  },
  {
   "cell_type": "code",
   "execution_count": 7,
   "id": "3b413ce3-57ea-494e-9b95-e934918a5e27",
   "metadata": {},
   "outputs": [],
   "source": [
    "explainer = shap.TreeExplainer(model)\n",
    "shap_values = explainer.shap_values(X, check_additivity=False)   # XGBx"
   ]
  },
  {
   "cell_type": "code",
   "execution_count": 9,
   "id": "bc62b40c-cbf5-4c78-9136-358616db7d27",
   "metadata": {},
   "outputs": [],
   "source": [
    "plt.figure(figsize=(9,6))\n",
    "shap.summary_plot(shap_values, X, plot_type=\"dot\", show=False)\n",
    "plt.tight_layout()\n",
    "plt.savefig(ROOT/\"figures/shap_summary.png\", dpi=150)\n",
    "plt.close()\n"
   ]
  },
  {
   "cell_type": "code",
   "execution_count": 15,
   "id": "4554972b-9b40-4b9a-93d9-af6fcad91318",
   "metadata": {},
   "outputs": [],
   "source": [
    "PIPE = joblib.load(ROOT/\"models/feature_pipeline_v2.pkl\")\n",
    "feature_names = PIPE.named_steps[\"pre\"].get_feature_names_out()\n",
    "X_df = pd.DataFrame(X, columns=PIPE.named_steps[\"pre\"].get_feature_names_out())\n",
    "\n",
    "\n",
    "importances = np.abs(shap_values).mean(0)\n",
    "idx = np.argsort(importances)[::-1][:20]  \n",
    "\n",
    "top_feats = feature_names[idx]\n",
    "\n",
    "plt.figure(figsize=(6,5))\n",
    "plt.barh(top_feats[::-1], importances[idx][::-1])\n",
    "plt.xlabel(\"Mean |SHAP|\")\n",
    "plt.title(\"Top-20 Feature Importance (SHAP)\")\n",
    "plt.tight_layout()\n",
    "plt.savefig(ROOT/\"figures/feature_importance_bar.png\", dpi=150)\n",
    "plt.close()\n"
   ]
  },
  {
   "cell_type": "code",
   "execution_count": 16,
   "id": "d89d99d4-c364-4f08-b02c-3d5f78a296c9",
   "metadata": {},
   "outputs": [],
   "source": [
    "# client_shap\n",
    "idx_good = np.where((model.predict_proba(X)[:,1] < .1))[0][0]\n",
    "proba = model.predict_proba(X)[:,1]\n",
    "idx_mid = np.where((proba >= 0.45) & (proba <= 0.55))[0][0]\n",
    "idx_bad  = np.where((model.predict_proba(X)[:,1] > .9))[0][0]\n",
    "samples = [idx_good, idx_mid, idx_bad]"
   ]
  },
  {
   "cell_type": "code",
   "execution_count": 17,
   "id": "17846dd1-b5ed-432c-895e-96bffd32680b",
   "metadata": {},
   "outputs": [],
   "source": [
    "for n, i in enumerate(samples, 1):\n",
    "    shap.plots.waterfall(shap.Explanation(values=shap_values[i],\n",
    "                                          base_values=explainer.expected_value,\n",
    "                                          data=X_df.iloc[i],\n",
    "                                          feature_names=X_df.columns),\n",
    "                         max_display=12, show=False)\n",
    "    plt.savefig(ROOT/f\"figures/client_{n}_force.png\", dpi=150, bbox_inches=\"tight\")\n",
    "    plt.close()"
   ]
  }
 ],
 "metadata": {
  "kernelspec": {
   "display_name": "Python (churn-env)",
   "language": "python",
   "name": "churn-env"
  },
  "language_info": {
   "codemirror_mode": {
    "name": "ipython",
    "version": 3
   },
   "file_extension": ".py",
   "mimetype": "text/x-python",
   "name": "python",
   "nbconvert_exporter": "python",
   "pygments_lexer": "ipython3",
   "version": "3.11.8"
  }
 },
 "nbformat": 4,
 "nbformat_minor": 5
}

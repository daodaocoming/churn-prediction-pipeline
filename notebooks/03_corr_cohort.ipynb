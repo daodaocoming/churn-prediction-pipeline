{
 "cells": [
  {
   "cell_type": "markdown",
   "id": "22490bde-fa20-459f-9a2c-8ae2145553f2",
   "metadata": {},
   "source": [
    "# 03 · Correlation & Cohort Analysis\n",
    "> Day 7 — correlation matrix, churn‑tenure, churn‑MRR cohorts"
   ]
  },
  {
   "cell_type": "markdown",
   "id": "5c4b9e74-2a53-4c0e-9f7f-0dd623b2de8c",
   "metadata": {},
   "source": [
    "## 1. Setup & Data Load"
   ]
  },
  {
   "cell_type": "code",
   "execution_count": 8,
   "id": "4d9a2e56-42f0-4189-b975-0450cbf1f106",
   "metadata": {},
   "outputs": [
    {
     "name": "stdout",
     "output_type": "stream",
     "text": [
      "(7043, 21)\n"
     ]
    }
   ],
   "source": [
    "from pathlib import Path\n",
    "import pandas as pd\n",
    "import matplotlib.pyplot as plt\n",
    "import seaborn as sns\n",
    "\n",
    "# Paths\n",
    "_CWD = Path.cwd()\n",
    "if (_CWD / \"data\").exists():               # we're already at project root\n",
    "    PROJECT_ROOT = _CWD\n",
    "else:                                      # we’re inside notebooks/\n",
    "    PROJECT_ROOT = _CWD.parent\n",
    "    \n",
    "CLEAN_PATH   = PROJECT_ROOT / \"data\" / \"clean\" / \"telco_clean.parquet\"\n",
    "FIG_DIR      = PROJECT_ROOT / \"figures\"\n",
    "FIG_DIR.mkdir(exist_ok=True)\n",
    "\n",
    "df = pd.read_parquet(CLEAN_PATH)\n",
    "print(df.shape)\n"
   ]
  },
  {
   "cell_type": "markdown",
   "id": "cc9fe955-101a-429b-ba03-d43b71e0f06a",
   "metadata": {},
   "source": [
    "## 2. Correlation Matrix Heatmap"
   ]
  },
  {
   "cell_type": "code",
   "execution_count": 4,
   "id": "e3caaed5-3ee7-496a-aa2d-81bd3ec2af30",
   "metadata": {},
   "outputs": [],
   "source": [
    "# --- numeric correlation matrix ---\n",
    "num_cols = df.select_dtypes(include=\"number\").columns\n",
    "corr = df[num_cols].corr(method=\"pearson\").round(2)\n",
    "\n",
    "plt.figure(figsize=(10, 8))\n",
    "sns.heatmap(\n",
    "    corr,\n",
    "    annot=True, fmt=\".2f\",\n",
    "    cmap=\"RdBu_r\",\n",
    "    vmin=-1, vmax=1,\n",
    "    linewidths=.5, square=True\n",
    ")\n",
    "plt.title(\"Pearson Correlation Matrix (Numeric Features)\")\n",
    "for ext in (\"png\", \"svg\"):\n",
    "    plt.savefig(FIG_DIR / f\"corr_heatmap.{ext}\", bbox_inches=\"tight\")\n",
    "plt.close()"
   ]
  },
  {
   "cell_type": "markdown",
   "id": "7d789a15-214c-4d91-966e-83f08cb052a2",
   "metadata": {},
   "source": [
    "## 3. Churn × Tenure Cohorts"
   ]
  },
  {
   "cell_type": "code",
   "execution_count": 15,
   "id": "cead1f47-f7d8-4228-bfd1-85003ebbad39",
   "metadata": {},
   "outputs": [],
   "source": [
    "# Bucket tenure into 6‑month bins\n",
    "df[\"tenure_bin\"] = pd.cut(df[\"tenure\"], bins=range(0, 72+6, 6), right=False)\n",
    "\n",
    "cohorts = (\n",
    "    df.groupby(\"tenure_bin\", observed=True)[\"Churn\"]\n",
    "      .value_counts(normalize=True)\n",
    "      .rename(\"pct\")\n",
    "      .reset_index()\n",
    "      .query(\"Churn == 'Yes'\")\n",
    ")\n",
    "\n",
    "plt.figure(figsize=(10, 4))\n",
    "sns.barplot(data=cohorts, x=\"tenure_bin\", y=\"pct\", color=\"#3b8eea\")\n",
    "plt.xticks(rotation=45, ha=\"right\")\n",
    "plt.ylabel(\"Churn Rate\")\n",
    "plt.xlabel(\"Tenure (months, 6‑month bins)\")\n",
    "plt.title(\"Churn Rate vs Tenure\")\n",
    "for ext in (\"png\", \"svg\"):\n",
    "    plt.savefig(FIG_DIR / f\"churn_vs_tenure.{ext}\", bbox_inches=\"tight\")\n",
    "plt.close()"
   ]
  },
  {
   "cell_type": "markdown",
   "id": "59a83884-982e-4ec4-947c-ea113f3ed1ea",
   "metadata": {},
   "source": [
    "## 4. Churn × MonthlyCharges Cohorts"
   ]
  },
  {
   "cell_type": "code",
   "execution_count": 19,
   "id": "097c68dd-aa86-4d05-b1f1-7abe06b15f33",
   "metadata": {},
   "outputs": [],
   "source": [
    "# Quartile‑based buckets\n",
    "df[\"mrr_bin\"] = pd.qcut(df[\"MonthlyCharges\"], q=4, labels=[\"Q1\",\"Q2\",\"Q3\",\"Q4\"])\n",
    "\n",
    "mrr_cohort = (\n",
    "    df.groupby(\"mrr_bin\", observed=True)[\"Churn\"]\n",
    "      .value_counts(normalize=True)\n",
    "      .rename(\"pct\")\n",
    "      .reset_index()\n",
    "      .query(\"Churn == 'Yes'\")\n",
    "      .sort_values(\"mrr_bin\")\n",
    ")\n",
    "\n",
    "plt.figure(figsize=(6, 4))\n",
    "sns.barplot(data=mrr_cohort, x=\"mrr_bin\", y=\"pct\", color=\"#3b8eea\")\n",
    "plt.ylabel(\"Churn Rate\")\n",
    "plt.xlabel(\"MonthlyCharges quartile\")\n",
    "plt.title(\"Churn Rate vs MonthlyCharges\")\n",
    "for ext in (\"png\", \"svg\"):\n",
    "    plt.savefig(FIG_DIR / f\"churn_vs_mrr.{ext}\", bbox_inches=\"tight\")\n",
    "plt.close()"
   ]
  },
  {
   "cell_type": "markdown",
   "id": "a30c5d54-5270-4d5b-899d-7e0a580fcd20",
   "metadata": {},
   "source": [
    "## 5. Quick Findings"
   ]
  },
  {
   "cell_type": "markdown",
   "id": "9e9f918b-a8db-4688-93fd-22e29d7f9a39",
   "metadata": {},
   "source": [
    "### 1 . Correlation matrix (Pearson)\n",
    "\n",
    "| Pair | r value | Insight |\n",
    "|------|---------|---------|\n",
    "| **tenure ↔ TotalCharges** | **0.82** | TotalCharges is essentially tenure × rate; they carry very similar information.  In tree models they’ll be redundant. |\n",
    "| **MonthlyCharges ↔ TotalCharges** | **0.65** | As expected: customers who pay more per month also accumulate higher lifetime spend. |\n",
    "| **tenure ↔ MonthlyCharges** | **0.25** | Weak positive correlation – higher‑paying plans are *slightly* more common among long‑tenure customers. No multicollinearity issue here. |\n",
    "\n",
    "### 2 . Churn rate vs Tenure (6‑month cohorts)\n",
    "\n",
    "| Tenure bin (months) | Churn Rate |\n",
    "|---------------------|------------|\n",
    "| **[0, 6)** (early life) | **≈ 0.54** |\n",
    "| [6, 12) | ≈ 0.37 |\n",
    "| [12, 18) | ≈ 0.34 |\n",
    "| [18, 24) | ≈ 0.25 |\n",
    "| [24, 30) | ≈ 0.23 |\n",
    "| [30, 42) | ≈ 0.22 |\n",
    "| [42, 48) | ≈ 0.18 |\n",
    "| [48, 60) | ≈ 0.14–0.15 |\n",
    "| [60, 72) | ≈ 0.08–0.09 |\n",
    "\n",
    "**Take‑away:** More than half of customers churn within the first 6 months; rate declines steadily thereafter. Focus retention spend on the first year (“on‑boarding” + early‑life incentives).\n",
    "\n",
    "### 3 . Churn rate vs MonthlyCharges (quartiles)\n",
    "\n",
    "| MonthlyCharges quartile | Approx. range (USD) | Churn Rate |\n",
    "|-------------------------|---------------------|------------|\n",
    "| **Q1** (lowest) | ≤ \\$35 | **≈ 0.11** |\n",
    "| **Q2** | \\$35 – \\$55 | ≈ 0.25 |\n",
    "| **Q3** | \\$55 – \\$75 | **≈ 0.37 (highest)** |\n",
    "| **Q4** (highest) | ≥ \\$75 | ≈ 0.32 |\n",
    "\n",
    "**Take‑away:** Mid‑to‑upper‑pricing tiers (Q3/Q4) show the highest churn. Low‑price customers (Q1) are comparatively sticky. Actionables:  \n",
    "* audit whether Q3/Q4 customers perceive sufficient value;  \n",
    "* consider loyalty perks or contract discounts for high‑MRR segments.\n",
    "\n",
    "---\n",
    "\n",
    "**Meta:** Dataset = 7 043 rows, 21 columns (post‑clean). All calculations use `observed=True` in `groupby` to ignore empty bins.\n"
   ]
  }
 ],
 "metadata": {
  "kernelspec": {
   "display_name": "Python (churn-env)",
   "language": "python",
   "name": "churn-env"
  },
  "language_info": {
   "codemirror_mode": {
    "name": "ipython",
    "version": 3
   },
   "file_extension": ".py",
   "mimetype": "text/x-python",
   "name": "python",
   "nbconvert_exporter": "python",
   "pygments_lexer": "ipython3",
   "version": "3.11.8"
  }
 },
 "nbformat": 4,
 "nbformat_minor": 5
}

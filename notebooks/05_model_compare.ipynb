{
 "cells": [
  {
   "cell_type": "code",
   "execution_count": 3,
   "id": "2a93ba9d-7f21-41b7-a99c-ee39d15f337a",
   "metadata": {
    "scrolled": true
   },
   "outputs": [],
   "source": [
    "import joblib, numpy as np, matplotlib.pyplot as plt\n",
    "from sklearn.metrics import (\n",
    "    roc_curve, precision_recall_curve, auc\n",
    ")\n",
    "from pathlib import Path\n",
    "\n",
    "ROOT = Path.cwd().parent    \n",
    "DATA = ROOT / \"data\" / \"processed\"\n",
    "MODELS = ROOT / \"models\"\n",
    "\n",
    "X = joblib.load(DATA / \"X_train.pkl\")\n",
    "y = joblib.load(DATA / \"y_train.pkl\")\n",
    "\n",
    "logreg = joblib.load(MODELS / \"logreg.pkl\")\n",
    "xgb    = joblib.load(MODELS / \"xgb_optuna_best.pkl\")\n",
    "\n",
    "proba_lr = logreg.predict_proba(X)[:,1]\n",
    "proba_xgb = xgb.predict_proba(X)[:,1]\n",
    "\n",
    "\n",
    "plt.figure()\n",
    "for name, p in [('LogReg', proba_lr), ('XGB', proba_xgb)]:\n",
    "    fpr, tpr, _ = roc_curve(y, p)\n",
    "    plt.plot(fpr, tpr, label=f'{name} AUC={auc(fpr,tpr):.3f}')\n",
    "plt.plot([0,1],[0,1],'k--')\n",
    "plt.legend()\n",
    "plt.title(\"ROC Curve\")\n",
    "\n",
    "plt.savefig(ROOT / \"figures/roc_compare.png\", dpi=150)\n",
    "plt.close()    \n",
    "\n",
    "\n",
    "plt.figure()\n",
    "for name, p in [('LogReg', proba_lr), ('XGB', proba_xgb)]:\n",
    "    prec, rec, _ = precision_recall_curve(y, p)\n",
    "    plt.plot(rec, prec, label=f'{name} AP={auc(rec,prec):.3f}')\n",
    "plt.legend()\n",
    "plt.title(\"PR Curve\")\n",
    "\n",
    "plt.savefig(ROOT / \"figures/pr_compare.png\", dpi=150)\n",
    "plt.close()\n"
   ]
  },
  {
   "cell_type": "code",
   "execution_count": 6,
   "id": "b99f6dfd-3136-41ae-9bd8-58c0dedfa847",
   "metadata": {},
   "outputs": [
    {
     "name": "stdout",
     "output_type": "stream",
     "text": [
      "✅ ROC & PR curves saved to figures/ directory\n"
     ]
    }
   ],
   "source": [
    "# lgbm_compare\n",
    "\n",
    "# ── Robust ROC / PR comparison ─────────────────────────────────────────\n",
    "from pathlib import Path\n",
    "import joblib, lightgbm as lgbm, matplotlib.pyplot as plt\n",
    "from sklearn.metrics import roc_curve, precision_recall_curve, auc\n",
    "import numpy as np\n",
    "\n",
    "ROOT = Path.cwd().parent              # notebooks/ → project root\n",
    "DATA = ROOT / \"data\" / \"processed\"\n",
    "MODELS = ROOT / \"models\"\n",
    "FIGS = ROOT / \"figures\"; FIGS.mkdir(exist_ok=True)\n",
    "\n",
    "# ----------------- helper: smart loader -------------------------------\n",
    "def load_model(path: Path):\n",
    "    \"\"\"Returns a tuple (name, predict_proba_fn).\"\"\"\n",
    "    name = path.stem                    # e.g. logreg, xgb_optuna_best\n",
    "    if path.suffix == \".pkl\":           # scikit-learn wrapper\n",
    "        clf = joblib.load(path)\n",
    "        return name, lambda X: clf.predict_proba(X)[:, 1]\n",
    "    if path.suffix == \".txt\":           # raw LightGBM booster\n",
    "        booster = lgbm.Booster(model_file=str(path))\n",
    "        return name, lambda X: booster.predict(X)\n",
    "    raise ValueError(f\"Unknown model file: {path}\")\n",
    "\n",
    "# ----------------- load data & models ---------------------------------\n",
    "X = joblib.load(DATA / \"X_train.pkl\")\n",
    "y = joblib.load(DATA / \"y_train.pkl\")\n",
    "\n",
    "models = [\n",
    "    load_model(MODELS / \"logreg.pkl\"),\n",
    "    load_model(MODELS / \"xgb_optuna_best.pkl\"),\n",
    "    load_model(MODELS / \"lgbm_optuna_best.txt\"),   # change to _baseline.txt if needed\n",
    "]\n",
    "\n",
    "# ----------------- ROC curve ------------------------------------------\n",
    "plt.figure()\n",
    "for name, proba_fn in models:\n",
    "    proba = proba_fn(X)\n",
    "    fpr, tpr, _ = roc_curve(y, proba)\n",
    "    plt.plot(fpr, tpr, label=f\"{name} AUC={auc(fpr,tpr):.3f}\")\n",
    "plt.plot([0,1],[0,1],'k--')\n",
    "plt.legend(); plt.title(\"ROC Curve\")\n",
    "plt.savefig(FIGS / \"roc_compare.png\", dpi=150); plt.close()\n",
    "\n",
    "# ----------------- PR curve -------------------------------------------\n",
    "plt.figure()\n",
    "for name, proba_fn in models:\n",
    "    proba = proba_fn(X)\n",
    "    prec, rec, _ = precision_recall_curve(y, proba)\n",
    "    plt.plot(rec, prec, label=f\"{name} AP={auc(rec,prec):.3f}\")\n",
    "plt.legend(); plt.title(\"PR Curve\")\n",
    "plt.savefig(FIGS / \"pr_compare.png\", dpi=150); plt.close()\n",
    "\n",
    "print(\"✅ ROC & PR curves saved to figures/ directory\")\n"
   ]
  }
 ],
 "metadata": {
  "kernelspec": {
   "display_name": "Python (churn-env)",
   "language": "python",
   "name": "churn-env"
  },
  "language_info": {
   "codemirror_mode": {
    "name": "ipython",
    "version": 3
   },
   "file_extension": ".py",
   "mimetype": "text/x-python",
   "name": "python",
   "nbconvert_exporter": "python",
   "pygments_lexer": "ipython3",
   "version": "3.11.8"
  }
 },
 "nbformat": 4,
 "nbformat_minor": 5
}

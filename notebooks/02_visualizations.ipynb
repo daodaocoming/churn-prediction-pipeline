{
 "cells": [
  {
   "cell_type": "code",
   "execution_count": 2,
   "id": "ac4db76e-5c4d-4681-9ec0-642eece19b31",
   "metadata": {},
   "outputs": [
    {
     "name": "stdout",
     "output_type": "stream",
     "text": [
      "Data shape: (7043, 21)\n"
     ]
    }
   ],
   "source": [
    "from pathlib import Path\n",
    "import pandas as pd\n",
    "import matplotlib.pyplot as plt\n",
    "import seaborn as sns\n",
    "\n",
    "# Paths\n",
    "_CWD = Path.cwd()\n",
    "if (_CWD / \"data\").exists():               # we're already at project root\n",
    "    PROJECT_ROOT = _CWD\n",
    "else:                                      # we’re inside notebooks/\n",
    "    PROJECT_ROOT = _CWD.parent\n",
    "\n",
    "CLEAN_PATH = PROJECT_ROOT / \"data\" / \"clean\" / \"telco_clean.parquet\"\n",
    "df = pd.read_parquet(CLEAN_PATH)\n",
    "FIG_DIR    = Path(\"figures\")\n",
    "FIG_DIR.mkdir(exist_ok=True)\n",
    "\n",
    "# Load cleaned data\n",
    "df = pd.read_parquet(CLEAN_PATH)\n",
    "print(\"Data shape:\", df.shape)\n"
   ]
  },
  {
   "cell_type": "markdown",
   "id": "7e53112f-e679-4ecb-b612-600a26bf0136",
   "metadata": {},
   "source": [
    "## 2. Numeric Feature Histograms  "
   ]
  },
  {
   "cell_type": "code",
   "execution_count": 4,
   "id": "d86accdd-aa61-4612-86a6-91105dd45f25",
   "metadata": {},
   "outputs": [
    {
     "name": "stdout",
     "output_type": "stream",
     "text": [
      "Numeric columns: ['tenure', 'MonthlyCharges', 'TotalCharges']\n"
     ]
    }
   ],
   "source": [
    "num_cols = df.select_dtypes(include=\"number\").columns.tolist()\n",
    "print(\"Numeric columns:\", num_cols)\n"
   ]
  },
  {
   "cell_type": "code",
   "execution_count": 7,
   "id": "c719237f-25c6-4276-8507-aa99f3a2c1c9",
   "metadata": {},
   "outputs": [],
   "source": [
    "for col in num_cols:\n",
    "    plt.figure(figsize=(6, 4))\n",
    "    sns.histplot(df[col], kde=True)\n",
    "    plt.title(f\"Histogram of {col}\")\n",
    "    plt.xlabel(col)\n",
    "    plt.ylabel(\"Count\")\n",
    "    for ext in (\"png\", \"svg\"):\n",
    "        plt.savefig(FIG_DIR / f\"dist_{col}_hist.{ext}\", bbox_inches=\"tight\")\n",
    "    plt.close()"
   ]
  },
  {
   "cell_type": "markdown",
   "id": "03d0a539-f095-42c3-86f3-7a8ebd707aa3",
   "metadata": {},
   "source": [
    "## 3. Numeric Feature Boxplots  "
   ]
  },
  {
   "cell_type": "code",
   "execution_count": 9,
   "id": "d809b30c-0a86-4d1e-bd9d-3d81f1daf34d",
   "metadata": {},
   "outputs": [],
   "source": [
    "for col in num_cols:\n",
    "    plt.figure(figsize=(4, 6))\n",
    "    sns.boxplot(y=df[col])\n",
    "    plt.title(f\"Boxplot of {col}\")\n",
    "    plt.ylabel(col)\n",
    "    for ext in (\"png\", \"svg\"):\n",
    "        plt.savefig(FIG_DIR / f\"dist_{col}_box.{ext}\", bbox_inches=\"tight\")\n",
    "    plt.close()"
   ]
  },
  {
   "cell_type": "markdown",
   "id": "3eca0199-c009-41ba-a02d-b2adad7addc3",
   "metadata": {},
   "source": [
    "## 4. Categorical Feature Countplots  "
   ]
  },
  {
   "cell_type": "code",
   "execution_count": 10,
   "id": "e99f8d4d-59d2-423e-824a-be07dec95c40",
   "metadata": {},
   "outputs": [
    {
     "name": "stdout",
     "output_type": "stream",
     "text": [
      "Categorical columns: ['customerID', 'gender', 'SeniorCitizen', 'Partner', 'Dependents', 'PhoneService', 'MultipleLines', 'InternetService', 'OnlineSecurity', 'OnlineBackup', 'DeviceProtection', 'TechSupport', 'StreamingTV', 'StreamingMovies', 'Contract', 'PaperlessBilling', 'PaymentMethod', 'Churn']\n"
     ]
    }
   ],
   "source": [
    "cat_cols = df.select_dtypes(include=[\"category\", \"object\", \"bool\"]).columns.tolist()\n",
    "print(\"Categorical columns:\", cat_cols)"
   ]
  },
  {
   "cell_type": "code",
   "execution_count": 11,
   "id": "8fad2e99-d71a-42d4-9e4f-0b7f917a1a5d",
   "metadata": {},
   "outputs": [],
   "source": [
    "for col in cat_cols:\n",
    "    plt.figure(figsize=(6, 4))\n",
    "    sns.countplot(data=df, x=col, order=df[col].value_counts().index)\n",
    "    plt.xticks(rotation=45, ha=\"right\")\n",
    "    plt.title(f\"Countplot of {col}\")\n",
    "    plt.xlabel(col)\n",
    "    plt.ylabel(\"Count\")\n",
    "    for ext in (\"png\", \"svg\"):\n",
    "        plt.savefig(FIG_DIR / f\"dist_{col}_count.{ext}\", bbox_inches=\"tight\")\n",
    "    plt.close()\n"
   ]
  }
 ],
 "metadata": {
  "kernelspec": {
   "display_name": "Python (churn-env)",
   "language": "python",
   "name": "churn-env"
  },
  "language_info": {
   "codemirror_mode": {
    "name": "ipython",
    "version": 3
   },
   "file_extension": ".py",
   "mimetype": "text/x-python",
   "name": "python",
   "nbconvert_exporter": "python",
   "pygments_lexer": "ipython3",
   "version": "3.11.8"
  }
 },
 "nbformat": 4,
 "nbformat_minor": 5
}
